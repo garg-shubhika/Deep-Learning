{
 "cells": [
  {
   "cell_type": "code",
   "execution_count": 1,
   "id": "802c03cf",
   "metadata": {},
   "outputs": [],
   "source": [
    "%matplotlib inline"
   ]
  },
  {
   "cell_type": "code",
   "execution_count": 2,
   "id": "4f71355b",
   "metadata": {},
   "outputs": [],
   "source": [
    "import torch\n",
    "import torch.nn as nn\n",
    "import torch.nn.functional as F"
   ]
  },
  {
   "cell_type": "markdown",
   "id": "df560e60",
   "metadata": {},
   "source": [
    "**A typical training procedure for a neural network is as follows:**\n",
    "\n",
    "- Define the neural network that has some learnable parameters (or weights)\n",
    "- Iterate over a dataset of inputs\n",
    "- Process input through the network\n",
    "- Compute the loss (how far is the output from being correct)\n",
    "- Propagate gradients back into the network’s parameters\n",
    "- Update the weights of the network, typically using a simple update rule: \n",
    "                                        weight = weight - learning_rate * gradient\n",
    "- Define the network"
   ]
  },
  {
   "cell_type": "code",
   "execution_count": 3,
   "id": "22d7f98b",
   "metadata": {},
   "outputs": [
    {
     "name": "stdout",
     "output_type": "stream",
     "text": [
      "Net(\n",
      "  (conv1): Conv2d(1, 6, kernel_size=(5, 5), stride=(1, 1))\n",
      "  (conv2): Conv2d(6, 16, kernel_size=(5, 5), stride=(1, 1))\n",
      "  (fc1): Linear(in_features=400, out_features=120, bias=True)\n",
      "  (fc2): Linear(in_features=120, out_features=84, bias=True)\n",
      "  (fc3): Linear(in_features=84, out_features=10, bias=True)\n",
      ")\n"
     ]
    }
   ],
   "source": [
    "class Net(nn.Module):\n",
    "    \n",
    "    def __init__(self):\n",
    "        super(Net, self).__init__()\n",
    "        \n",
    "        # 1 input image channel, 6 output channels, 5x5 square convolution\n",
    "        # kernel\n",
    "        self.conv1 = nn.Conv2d(1, 6, 5)\n",
    "        self.conv2 = nn.Conv2d(6, 16, 5)\n",
    "        \n",
    "        # an affine operation: y = Wx + b\n",
    "        \n",
    "        self.fc1 = nn.Linear(16 * 5 * 5, 120)  # 5*5 from image dimension \n",
    "        self.fc2 = nn.Linear(120, 84)\n",
    "        self.fc3 = nn.Linear(84, 10)\n",
    "\n",
    "    def forward(self, x):\n",
    "        # Max pooling over a (2, 2) window\n",
    "        x = F.max_pool2d(F.relu(self.conv1(x)), (2, 2))\n",
    "        \n",
    "        # If the size is a square, you can specify with a single number\n",
    "        x = F.max_pool2d(F.relu(self.conv2(x)), 2)\n",
    "        x = torch.flatten(x, 1) # flatten all dimensions except the batch dimension\n",
    "        x = F.relu(self.fc1(x))\n",
    "        x = F.relu(self.fc2(x))\n",
    "        x = self.fc3(x)\n",
    "        return x\n",
    "\n",
    "\n",
    "net = Net()\n",
    "print(net)"
   ]
  },
  {
   "cell_type": "markdown",
   "id": "3caf3b8d",
   "metadata": {},
   "source": [
    "We just have to define the forward function, and the backward function (where gradients are computed) is automatically defined \n",
    "for us using autograd. We can use any of the Tensor operations in the forward function.\n",
    "\n",
    "**The learnable parameters of a model are returned by net.parameters()**"
   ]
  },
  {
   "cell_type": "code",
   "execution_count": 4,
   "id": "17037ddc",
   "metadata": {},
   "outputs": [
    {
     "name": "stdout",
     "output_type": "stream",
     "text": [
      "10\n",
      "torch.Size([6, 1, 5, 5])\n"
     ]
    }
   ],
   "source": [
    "params = list(net.parameters())\n",
    "print(len(params))\n",
    "print(params[0].size())  # conv1's .weight"
   ]
  },
  {
   "cell_type": "markdown",
   "id": "2b3c045c",
   "metadata": {},
   "source": [
    "Let's try a random 32x32 input. Note: expected input size of this net (LeNet) is 32x32. \n",
    "To use this net on the MNIST dataset, please resize the images from the dataset to 32x32."
   ]
  },
  {
   "cell_type": "code",
   "execution_count": 5,
   "id": "74331dd9",
   "metadata": {},
   "outputs": [
    {
     "name": "stdout",
     "output_type": "stream",
     "text": [
      "tensor([[ 0.0654,  0.0396,  0.0624, -0.0983, -0.0488, -0.0166,  0.0146, -0.0645,\n",
      "         -0.0450, -0.0440]], grad_fn=<AddmmBackward0>)\n"
     ]
    }
   ],
   "source": [
    "input = torch.randn(1, 1, 32, 32)\n",
    "out = net(input)\n",
    "print(out)"
   ]
  },
  {
   "cell_type": "markdown",
   "id": "53329649",
   "metadata": {},
   "source": [
    "Zero the gradient buffers of all parameters and backprops with random gradients:"
   ]
  },
  {
   "cell_type": "markdown",
   "id": "777dc2e1",
   "metadata": {},
   "source": [
    "**Note\n",
    "``torch.nn`` only supports mini-batches. \n",
    "The entire ``torch.nn`` package only supports inputs that are a mini-batch of samples, and not a single sample.**"
   ]
  },
  {
   "cell_type": "markdown",
   "id": "d552cb01",
   "metadata": {},
   "source": [
    "**torch.Tensor** - A multi-dimensional array with support for autograd operations like backward(). Also holds the gradient w.r.t. the tensor.\n",
    "\n",
    "**nn.Module** - Neural network module. Convenient way of encapsulating parameters, with helpers for moving them to GPU, exporting, loading, etc.\n",
    "\n",
    "**nn.Parameter** - A kind of Tensor, that is automatically registered as a parameter when assigned as an attribute to a Module.\n",
    "\n",
    "**autograd.Function** - Implements forward and backward definitions of an autograd operation. Every Tensor operation creates at least a single Function node that connects to functions that created a Tensor and encodes its history."
   ]
  },
  {
   "cell_type": "markdown",
   "id": "5321676e",
   "metadata": {},
   "source": [
    "**LOSS FUNCTION**\n",
    "\n",
    "A loss function takes the (output, target) pair of inputs, and computes a value that estimates how far away the output \n",
    "is from the target.\n",
    "\n",
    "There are several different loss functions <https://pytorch.org/docs/nn.html#loss-functions>\n",
    "under the nn package . A simple loss is: nn.MSELoss which computes the mean-squared error between the output and the target."
   ]
  },
  {
   "cell_type": "code",
   "execution_count": 6,
   "id": "2fe68c62",
   "metadata": {},
   "outputs": [
    {
     "name": "stdout",
     "output_type": "stream",
     "text": [
      "tensor([[ 0.0654,  0.0396,  0.0624, -0.0983, -0.0488, -0.0166,  0.0146, -0.0645,\n",
      "         -0.0450, -0.0440]], grad_fn=<AddmmBackward0>)\n",
      "tensor([[ 0.2310, -0.9775, -0.4607, -0.3347, -1.2723, -0.5546, -1.9229,  1.0480,\n",
      "         -1.1289,  0.2876]])\n",
      "tensor(0.9454, grad_fn=<MseLossBackward0>)\n"
     ]
    }
   ],
   "source": [
    "output = net(input)\n",
    "target = torch.randn(10)  # a dummy target, for example\n",
    "target = target.view(1, -1)  # make it the same shape as output\n",
    "criterion = nn.MSELoss()\n",
    "print(output)\n",
    "print(target)\n",
    "loss = criterion(output, target)\n",
    "print(loss)"
   ]
  },
  {
   "cell_type": "markdown",
   "id": "a82190f1",
   "metadata": {},
   "source": [
    "Now, if you follow loss in the backward direction, using its .grad_fn attribute, \n",
    "you will see a graph of computations that looks like this:"
   ]
  },
  {
   "cell_type": "markdown",
   "id": "28d38537",
   "metadata": {},
   "source": [
    "**input -> conv2d -> relu -> maxpool2d -> conv2d -> relu -> maxpool2d\n",
    "      -> flatten -> linear -> relu -> linear -> relu -> linear\n",
    "      -> MSELoss\n",
    "      -> loss**"
   ]
  },
  {
   "cell_type": "markdown",
   "id": "2998857c",
   "metadata": {},
   "source": [
    "So, when we call loss.backward(), the whole graph is differentiated w.r.t. the neural net parameters, \n",
    "and all Tensors in the graph that have requires_grad=True will have their .grad Tensor accumulated with the gradient."
   ]
  },
  {
   "cell_type": "code",
   "execution_count": 7,
   "id": "132680c4",
   "metadata": {},
   "outputs": [
    {
     "name": "stdout",
     "output_type": "stream",
     "text": [
      "<MseLossBackward0 object at 0x00000276FA8D97F0>\n",
      "<AddmmBackward0 object at 0x00000276FA8D95B0>\n",
      "<AccumulateGrad object at 0x00000276F9405700>\n"
     ]
    }
   ],
   "source": [
    "print(loss.grad_fn)  # MSELoss\n",
    "print(loss.grad_fn.next_functions[0][0])  # Linear\n",
    "print(loss.grad_fn.next_functions[0][0].next_functions[0][0])  # ReLU"
   ]
  },
  {
   "cell_type": "markdown",
   "id": "16bb47fd",
   "metadata": {},
   "source": [
    "**Backprop**\n",
    "To backpropagate the error all we have to do is to loss.backward(). \n",
    "We need to clear the existing gradients though, else gradients will be accumulated to existing gradients.\n",
    "\n",
    "Now we shall call loss.backward(), and have a look at conv1's bias gradients before and after the backward."
   ]
  },
  {
   "cell_type": "code",
   "execution_count": 8,
   "id": "a115f5d5",
   "metadata": {},
   "outputs": [
    {
     "name": "stdout",
     "output_type": "stream",
     "text": [
      "conv1.bias.grad before backward\n",
      "None\n",
      "conv1.bias.grad after backward\n",
      "tensor([-0.0073, -0.0101,  0.0259,  0.0108, -0.0003, -0.0014])\n"
     ]
    }
   ],
   "source": [
    "net.zero_grad()     # zeroes the gradient buffers of all parameters\n",
    "\n",
    "print('conv1.bias.grad before backward')\n",
    "print(net.conv1.bias.grad)\n",
    "\n",
    "loss.backward()\n",
    "\n",
    "print('conv1.bias.grad after backward')\n",
    "print(net.conv1.bias.grad)"
   ]
  },
  {
   "cell_type": "markdown",
   "id": "5d4a9dd5",
   "metadata": {},
   "source": [
    "**Update the weights**\n",
    "The simplest update rule used in practice is the **Stochastic Gradient Descent (SGD):**\n",
    "\n",
    " ``weight = weight - learning_rate * gradient``"
   ]
  },
  {
   "cell_type": "code",
   "execution_count": 9,
   "id": "1102e30f",
   "metadata": {},
   "outputs": [],
   "source": [
    "learning_rate = 0.01\n",
    "for f in net.parameters():\n",
    "    f.data.sub_(f.grad.data * learning_rate)"
   ]
  },
  {
   "cell_type": "markdown",
   "id": "107e3ccb",
   "metadata": {},
   "source": [
    "To use various different update rules such as SGD, Nesterov-SGD, Adam, RMSProp, etc. \n",
    "We use **torch.optim** that implements all these methods. "
   ]
  },
  {
   "cell_type": "code",
   "execution_count": 10,
   "id": "ec1c3d61",
   "metadata": {},
   "outputs": [],
   "source": [
    "import torch.optim as optim\n",
    "\n",
    "# create your optimizer\n",
    "optimizer = optim.SGD(net.parameters(), lr=0.01)\n",
    "\n",
    "# in your training loop:\n",
    "optimizer.zero_grad()   # zero the gradient buffers\n",
    "output = net(input)\n",
    "loss = criterion(output, target)\n",
    "loss.backward()\n",
    "optimizer.step()    # Does the update"
   ]
  },
  {
   "cell_type": "code",
   "execution_count": 11,
   "id": "ee156dfc",
   "metadata": {},
   "outputs": [
    {
     "name": "stdout",
     "output_type": "stream",
     "text": [
      "SGD (\n",
      "Parameter Group 0\n",
      "    dampening: 0\n",
      "    differentiable: False\n",
      "    foreach: None\n",
      "    lr: 0.01\n",
      "    maximize: False\n",
      "    momentum: 0\n",
      "    nesterov: False\n",
      "    weight_decay: 0\n",
      ")\n"
     ]
    }
   ],
   "source": [
    "print(optimizer)"
   ]
  },
  {
   "cell_type": "code",
   "execution_count": 12,
   "id": "ab701917",
   "metadata": {},
   "outputs": [
    {
     "name": "stdout",
     "output_type": "stream",
     "text": [
      "tensor([[ 0.0616,  0.0332,  0.0528, -0.1024, -0.0575, -0.0244, -0.0024, -0.0497,\n",
      "         -0.0550, -0.0338]], grad_fn=<AddmmBackward0>)\n"
     ]
    }
   ],
   "source": [
    "print(output)"
   ]
  },
  {
   "cell_type": "code",
   "execution_count": 13,
   "id": "7ef79761",
   "metadata": {},
   "outputs": [
    {
     "name": "stdout",
     "output_type": "stream",
     "text": [
      "tensor(0.9274, grad_fn=<MseLossBackward0>)\n"
     ]
    }
   ],
   "source": [
    "print(loss)"
   ]
  }
 ],
 "metadata": {
  "kernelspec": {
   "display_name": "Python 3 (ipykernel)",
   "language": "python",
   "name": "python3"
  },
  "language_info": {
   "codemirror_mode": {
    "name": "ipython",
    "version": 3
   },
   "file_extension": ".py",
   "mimetype": "text/x-python",
   "name": "python",
   "nbconvert_exporter": "python",
   "pygments_lexer": "ipython3",
   "version": "3.9.13"
  }
 },
 "nbformat": 4,
 "nbformat_minor": 5
}
